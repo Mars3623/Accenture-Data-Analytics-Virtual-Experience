{
  "nbformat": 4,
  "nbformat_minor": 0,
  "metadata": {
    "colab": {
      "name": "Untitled0.ipynb",
      "provenance": [],
      "collapsed_sections": [],
      "mount_file_id": "1qBHW74cgYZMnfVzRyMuqaHgqdTeW_LrY",
      "authorship_tag": "ABX9TyPvKDyS7T2jDAX8Zd3FT9ES",
      "include_colab_link": true
    },
    "kernelspec": {
      "name": "python3",
      "display_name": "Python 3"
    },
    "language_info": {
      "name": "python"
    }
  },
  "cells": [
    {
      "cell_type": "markdown",
      "metadata": {
        "id": "view-in-github",
        "colab_type": "text"
      },
      "source": [
        "<a href=\"https://colab.research.google.com/github/Mars3623/Accenture-Data-Analytics-Virtual-Experience/blob/main/Accenture.ipynb\" target=\"_parent\"><img src=\"https://colab.research.google.com/assets/colab-badge.svg\" alt=\"Open In Colab\"/></a>"
      ]
    },
    {
      "cell_type": "code",
      "execution_count": null,
      "metadata": {
        "id": "yD7lH3g7w-AM"
      },
      "outputs": [],
      "source": [
        "# Import Libraries\n",
        "import numpy as np\n",
        "import pandas as pd\n",
        "import datetime"
      ]
    },
    {
      "cell_type": "markdown",
      "source": [
        "ReactionTypes (1).csv\n",
        "Session (1).csv\n",
        "Reactions (1).csv\n",
        "Profile (1).csv\n",
        "Content (1).csv"
      ],
      "metadata": {
        "id": "2rfrVKbH2ru5"
      }
    },
    {
      "cell_type": "code",
      "source": [
        "# Load Data\n",
        "\n",
        "data = pd.read_csv(\"Content (1).csv\").drop(columns = [\"Unnamed: 0\"])\n",
        "data = data.merge(pd.read_csv(\"Profile (1).csv\").drop(columns = [\"Unnamed: 0\"]) , how = \"left\" , left_on = \"User ID\" , right_on = \"User ID\")\n",
        "data = data.merge(pd.read_csv(\"/content/drive/MyDrive/Reactions (1).csv\").\n",
        "                  drop(columns = [\"Unnamed: 0\" , \"User ID\"]).rename(columns = {\"Type\" : \"Reaction_Type\"}) , how = \"left\" , on = \"Content ID\")\n",
        "data = data.merge(pd.read_csv(\"Session (1).csv\").drop(columns = \"Unnamed: 0\") , how = \"left\" , on = \"User ID\")\n",
        "data = data.merge(pd.read_csv(\"ReactionTypes (1).csv\").\n",
        "                  drop(columns = \"Unnamed: 0\").rename(columns = {\"Type\" : \"Reaction_Type\"}) , how = \"left\" , on = \"Reaction_Type\")\n",
        "data.drop(columns = [\"Interests\" , \"URL\"] , inplace = True)"
      ],
      "metadata": {
        "id": "_VOd_7WjxFYH"
      },
      "execution_count": null,
      "outputs": []
    },
    {
      "cell_type": "code",
      "source": [
        "# Checking Unique Columns to confirm any abnormalities\n",
        "data[\"Category\"].unique()"
      ],
      "metadata": {
        "id": "kKvQkih52O8D",
        "colab": {
          "base_uri": "https://localhost:8080/"
        },
        "outputId": "db7f38c6-d729-425f-c827-b5cf97869adb"
      },
      "execution_count": null,
      "outputs": [
        {
          "output_type": "execute_result",
          "data": {
            "text/plain": [
              "array(['Studying', 'healthy eating', 'technology', 'food', 'cooking',\n",
              "       'dogs', 'soccer', 'public speaking', 'science', 'tennis', 'travel',\n",
              "       'fitness', 'education', 'studying', 'veganism', 'Animals',\n",
              "       'animals', 'culture', '\"culture\"', 'Fitness', '\"studying\"',\n",
              "       'Veganism', '\"animals\"', 'Travel', '\"soccer\"', 'Education',\n",
              "       '\"dogs\"', 'Technology', 'Soccer', '\"tennis\"', 'Culture', '\"food\"',\n",
              "       'Food', '\"technology\"', 'Healthy Eating', '\"cooking\"', 'Science',\n",
              "       '\"public speaking\"', '\"veganism\"', 'Public Speaking', '\"science\"'],\n",
              "      dtype=object)"
            ]
          },
          "metadata": {},
          "execution_count": 3
        }
      ]
    },
    {
      "cell_type": "code",
      "source": [
        "data[\"Category\"] = data[\"Category\"].replace('\"' , \"\" , regex = True)\n",
        "data[\"Category\"] = data[\"Category\"].str.lower()"
      ],
      "metadata": {
        "id": "vSU8s2YnyDxu"
      },
      "execution_count": null,
      "outputs": []
    },
    {
      "cell_type": "code",
      "source": [
        "data[\"Category\"].unique()"
      ],
      "metadata": {
        "colab": {
          "base_uri": "https://localhost:8080/"
        },
        "id": "9g-HbpdDyfZS",
        "outputId": "081e0004-5a8e-45ef-b256-9ab2b366f224"
      },
      "execution_count": null,
      "outputs": [
        {
          "output_type": "execute_result",
          "data": {
            "text/plain": [
              "array(['studying', 'healthy eating', 'technology', 'food', 'cooking',\n",
              "       'dogs', 'soccer', 'public speaking', 'science', 'tennis', 'travel',\n",
              "       'fitness', 'education', 'veganism', 'animals', 'culture'],\n",
              "      dtype=object)"
            ]
          },
          "metadata": {},
          "execution_count": 15
        }
      ]
    },
    {
      "cell_type": "code",
      "source": [
        "data.info()"
      ],
      "metadata": {
        "colab": {
          "base_uri": "https://localhost:8080/"
        },
        "id": "yj_C49ya9AzH",
        "outputId": "481070af-9d74-4a19-8071-3f5fc3d0a30c"
      },
      "execution_count": null,
      "outputs": [
        {
          "output_type": "stream",
          "name": "stdout",
          "text": [
            "<class 'pandas.core.frame.DataFrame'>\n",
            "Int64Index: 25573 entries, 0 to 25572\n",
            "Data columns (total 11 columns):\n",
            " #   Column         Non-Null Count  Dtype  \n",
            "---  ------         --------------  -----  \n",
            " 0   Content ID     25573 non-null  object \n",
            " 1   User ID        25573 non-null  object \n",
            " 2   Type           25573 non-null  object \n",
            " 3   Category       25573 non-null  object \n",
            " 4   Age            25573 non-null  int64  \n",
            " 5   Reaction_Type  24573 non-null  object \n",
            " 6   Datetime       25553 non-null  object \n",
            " 7   Device         25573 non-null  object \n",
            " 8   Duration       25573 non-null  int64  \n",
            " 9   Sentiment      24573 non-null  object \n",
            " 10  Score          24573 non-null  float64\n",
            "dtypes: float64(1), int64(2), object(8)\n",
            "memory usage: 2.3+ MB\n"
          ]
        }
      ]
    },
    {
      "cell_type": "code",
      "source": [
        "data.isna().sum()"
      ],
      "metadata": {
        "colab": {
          "base_uri": "https://localhost:8080/"
        },
        "id": "Ky1QoEHLLxTr",
        "outputId": "d63db9c0-d855-4835-826a-94cac496a1ee"
      },
      "execution_count": null,
      "outputs": [
        {
          "output_type": "execute_result",
          "data": {
            "text/plain": [
              "Content ID          0\n",
              "User ID             0\n",
              "Type                0\n",
              "Category            0\n",
              "Age                 0\n",
              "Reaction_Type    1000\n",
              "Datetime           20\n",
              "Device              0\n",
              "Duration            0\n",
              "Sentiment        1000\n",
              "Score            1000\n",
              "dtype: int64"
            ]
          },
          "metadata": {},
          "execution_count": 16
        }
      ]
    },
    {
      "cell_type": "code",
      "source": [
        "# Droping NaN Rows\n",
        "data.dropna(inplace = True)"
      ],
      "metadata": {
        "id": "bq7m7YUIuybR"
      },
      "execution_count": null,
      "outputs": []
    },
    {
      "cell_type": "code",
      "source": [
        "# Sorting Categories By Score\n",
        "data.groupby(\"Category\")[\"Score\"].sum().sort_values(ascending = False).head(10)"
      ],
      "metadata": {
        "colab": {
          "base_uri": "https://localhost:8080/"
        },
        "id": "wNXP_cbdu74a",
        "outputId": "3f599551-ffd7-4603-b82f-a0255f598f0a"
      },
      "execution_count": null,
      "outputs": [
        {
          "output_type": "execute_result",
          "data": {
            "text/plain": [
              "Category\n",
              "animals           74965.0\n",
              "science           71168.0\n",
              "healthy eating    69339.0\n",
              "technology        68738.0\n",
              "food              66676.0\n",
              "culture           66579.0\n",
              "travel            64880.0\n",
              "cooking           64756.0\n",
              "soccer            57783.0\n",
              "education         57436.0\n",
              "Name: Score, dtype: float64"
            ]
          },
          "metadata": {},
          "execution_count": 18
        }
      ]
    },
    {
      "cell_type": "code",
      "source": [
        "# Sorting Based on Count of Categories\n",
        "data.groupby(\"Category\")[\"Category\"].count().sort_values(ascending = False).head(10)"
      ],
      "metadata": {
        "colab": {
          "base_uri": "https://localhost:8080/"
        },
        "id": "zwTfwwOucyPK",
        "outputId": "66fe8ae5-993b-451d-fb42-13e9ac48f0c1"
      },
      "execution_count": null,
      "outputs": [
        {
          "output_type": "execute_result",
          "data": {
            "text/plain": [
              "Category\n",
              "animals           1897\n",
              "science           1796\n",
              "healthy eating    1717\n",
              "food              1699\n",
              "technology        1698\n",
              "culture           1676\n",
              "cooking           1664\n",
              "travel            1647\n",
              "soccer            1457\n",
              "education         1433\n",
              "Name: Score, dtype: int64"
            ]
          },
          "metadata": {},
          "execution_count": 20
        }
      ]
    },
    {
      "cell_type": "code",
      "source": [
        "data[\"month\"] = pd.to_datetime(data[\"Datetime\"]).dt.month\n",
        "data.groupby([\"month\"])[\"month\"].count().sort_values(ascending = False)"
      ],
      "metadata": {
        "colab": {
          "base_uri": "https://localhost:8080/",
          "height": 455
        },
        "id": "BuWevcOodOmC",
        "outputId": "92e8aa7d-c1b1-4a5b-b1c5-0b880f3c7e28"
      },
      "execution_count": null,
      "outputs": [
        {
          "output_type": "execute_result",
          "data": {
            "text/plain": [
              "                     Datetime\n",
              "Datetime                     \n",
              "2020-06-18 07:59:17         1\n",
              "2020-06-18 08:07:22         1\n",
              "2020-06-18 08:22:47         1\n",
              "2020-06-18 08:51:33         1\n",
              "2020-06-18 09:13:59         1\n",
              "...                       ...\n",
              "2021-06-18 07:41:35         1\n",
              "2021-06-18 07:44:58         1\n",
              "2021-06-18 07:52:55         1\n",
              "2021-06-18 08:01:10         1\n",
              "2021-06-18 08:30:29         1\n",
              "\n",
              "[25542 rows x 1 columns]"
            ],
            "text/html": [
              "\n",
              "  <div id=\"df-e7d41d24-cb30-408f-9873-08ad2b2b75f7\">\n",
              "    <div class=\"colab-df-container\">\n",
              "      <div>\n",
              "<style scoped>\n",
              "    .dataframe tbody tr th:only-of-type {\n",
              "        vertical-align: middle;\n",
              "    }\n",
              "\n",
              "    .dataframe tbody tr th {\n",
              "        vertical-align: top;\n",
              "    }\n",
              "\n",
              "    .dataframe thead th {\n",
              "        text-align: right;\n",
              "    }\n",
              "</style>\n",
              "<table border=\"1\" class=\"dataframe\">\n",
              "  <thead>\n",
              "    <tr style=\"text-align: right;\">\n",
              "      <th></th>\n",
              "      <th>Datetime</th>\n",
              "    </tr>\n",
              "    <tr>\n",
              "      <th>Datetime</th>\n",
              "      <th></th>\n",
              "    </tr>\n",
              "  </thead>\n",
              "  <tbody>\n",
              "    <tr>\n",
              "      <th>2020-06-18 07:59:17</th>\n",
              "      <td>1</td>\n",
              "    </tr>\n",
              "    <tr>\n",
              "      <th>2020-06-18 08:07:22</th>\n",
              "      <td>1</td>\n",
              "    </tr>\n",
              "    <tr>\n",
              "      <th>2020-06-18 08:22:47</th>\n",
              "      <td>1</td>\n",
              "    </tr>\n",
              "    <tr>\n",
              "      <th>2020-06-18 08:51:33</th>\n",
              "      <td>1</td>\n",
              "    </tr>\n",
              "    <tr>\n",
              "      <th>2020-06-18 09:13:59</th>\n",
              "      <td>1</td>\n",
              "    </tr>\n",
              "    <tr>\n",
              "      <th>...</th>\n",
              "      <td>...</td>\n",
              "    </tr>\n",
              "    <tr>\n",
              "      <th>2021-06-18 07:41:35</th>\n",
              "      <td>1</td>\n",
              "    </tr>\n",
              "    <tr>\n",
              "      <th>2021-06-18 07:44:58</th>\n",
              "      <td>1</td>\n",
              "    </tr>\n",
              "    <tr>\n",
              "      <th>2021-06-18 07:52:55</th>\n",
              "      <td>1</td>\n",
              "    </tr>\n",
              "    <tr>\n",
              "      <th>2021-06-18 08:01:10</th>\n",
              "      <td>1</td>\n",
              "    </tr>\n",
              "    <tr>\n",
              "      <th>2021-06-18 08:30:29</th>\n",
              "      <td>1</td>\n",
              "    </tr>\n",
              "  </tbody>\n",
              "</table>\n",
              "<p>25542 rows × 1 columns</p>\n",
              "</div>\n",
              "      <button class=\"colab-df-convert\" onclick=\"convertToInteractive('df-e7d41d24-cb30-408f-9873-08ad2b2b75f7')\"\n",
              "              title=\"Convert this dataframe to an interactive table.\"\n",
              "              style=\"display:none;\">\n",
              "        \n",
              "  <svg xmlns=\"http://www.w3.org/2000/svg\" height=\"24px\"viewBox=\"0 0 24 24\"\n",
              "       width=\"24px\">\n",
              "    <path d=\"M0 0h24v24H0V0z\" fill=\"none\"/>\n",
              "    <path d=\"M18.56 5.44l.94 2.06.94-2.06 2.06-.94-2.06-.94-.94-2.06-.94 2.06-2.06.94zm-11 1L8.5 8.5l.94-2.06 2.06-.94-2.06-.94L8.5 2.5l-.94 2.06-2.06.94zm10 10l.94 2.06.94-2.06 2.06-.94-2.06-.94-.94-2.06-.94 2.06-2.06.94z\"/><path d=\"M17.41 7.96l-1.37-1.37c-.4-.4-.92-.59-1.43-.59-.52 0-1.04.2-1.43.59L10.3 9.45l-7.72 7.72c-.78.78-.78 2.05 0 2.83L4 21.41c.39.39.9.59 1.41.59.51 0 1.02-.2 1.41-.59l7.78-7.78 2.81-2.81c.8-.78.8-2.07 0-2.86zM5.41 20L4 18.59l7.72-7.72 1.47 1.35L5.41 20z\"/>\n",
              "  </svg>\n",
              "      </button>\n",
              "      \n",
              "  <style>\n",
              "    .colab-df-container {\n",
              "      display:flex;\n",
              "      flex-wrap:wrap;\n",
              "      gap: 12px;\n",
              "    }\n",
              "\n",
              "    .colab-df-convert {\n",
              "      background-color: #E8F0FE;\n",
              "      border: none;\n",
              "      border-radius: 50%;\n",
              "      cursor: pointer;\n",
              "      display: none;\n",
              "      fill: #1967D2;\n",
              "      height: 32px;\n",
              "      padding: 0 0 0 0;\n",
              "      width: 32px;\n",
              "    }\n",
              "\n",
              "    .colab-df-convert:hover {\n",
              "      background-color: #E2EBFA;\n",
              "      box-shadow: 0px 1px 2px rgba(60, 64, 67, 0.3), 0px 1px 3px 1px rgba(60, 64, 67, 0.15);\n",
              "      fill: #174EA6;\n",
              "    }\n",
              "\n",
              "    [theme=dark] .colab-df-convert {\n",
              "      background-color: #3B4455;\n",
              "      fill: #D2E3FC;\n",
              "    }\n",
              "\n",
              "    [theme=dark] .colab-df-convert:hover {\n",
              "      background-color: #434B5C;\n",
              "      box-shadow: 0px 1px 3px 1px rgba(0, 0, 0, 0.15);\n",
              "      filter: drop-shadow(0px 1px 2px rgba(0, 0, 0, 0.3));\n",
              "      fill: #FFFFFF;\n",
              "    }\n",
              "  </style>\n",
              "\n",
              "      <script>\n",
              "        const buttonEl =\n",
              "          document.querySelector('#df-e7d41d24-cb30-408f-9873-08ad2b2b75f7 button.colab-df-convert');\n",
              "        buttonEl.style.display =\n",
              "          google.colab.kernel.accessAllowed ? 'block' : 'none';\n",
              "\n",
              "        async function convertToInteractive(key) {\n",
              "          const element = document.querySelector('#df-e7d41d24-cb30-408f-9873-08ad2b2b75f7');\n",
              "          const dataTable =\n",
              "            await google.colab.kernel.invokeFunction('convertToInteractive',\n",
              "                                                     [key], {});\n",
              "          if (!dataTable) return;\n",
              "\n",
              "          const docLinkHtml = 'Like what you see? Visit the ' +\n",
              "            '<a target=\"_blank\" href=https://colab.research.google.com/notebooks/data_table.ipynb>data table notebook</a>'\n",
              "            + ' to learn more about interactive tables.';\n",
              "          element.innerHTML = '';\n",
              "          dataTable['output_type'] = 'display_data';\n",
              "          await google.colab.output.renderOutput(dataTable, element);\n",
              "          const docLink = document.createElement('div');\n",
              "          docLink.innerHTML = docLinkHtml;\n",
              "          element.appendChild(docLink);\n",
              "        }\n",
              "      </script>\n",
              "    </div>\n",
              "  </div>\n",
              "  "
            ]
          },
          "metadata": {},
          "execution_count": 23
        }
      ]
    },
    {
      "cell_type": "code",
      "source": [
        "# Exporting to csv file\n",
        "data.to_csv(\"data.csv\")"
      ],
      "metadata": {
        "id": "fLygvmPagNyN"
      },
      "execution_count": null,
      "outputs": []
    }
  ]
}